{
  "cells": [
    {
      "cell_type": "code",
      "execution_count": null,
      "metadata": {
        "colab": {
          "base_uri": "https://localhost:8080/"
        },
        "id": "fBCpCnzmkTSY",
        "outputId": "23b5c74f-9ce2-4afc-c0f7-aab9829083ed"
      },
      "outputs": [
        {
          "name": "stdout",
          "output_type": "stream",
          "text": [
            "Collecting langgraph\n",
            "  Downloading langgraph-0.6.5-py3-none-any.whl.metadata (6.8 kB)\n",
            "Requirement already satisfied: langchain-core>=0.1 in /usr/local/lib/python3.11/dist-packages (from langgraph) (0.3.74)\n",
            "Collecting langgraph-checkpoint<3.0.0,>=2.1.0 (from langgraph)\n",
            "  Downloading langgraph_checkpoint-2.1.1-py3-none-any.whl.metadata (4.2 kB)\n",
            "Collecting langgraph-prebuilt<0.7.0,>=0.6.0 (from langgraph)\n",
            "  Downloading langgraph_prebuilt-0.6.4-py3-none-any.whl.metadata (4.5 kB)\n",
            "Collecting langgraph-sdk<0.3.0,>=0.2.0 (from langgraph)\n",
            "  Downloading langgraph_sdk-0.2.0-py3-none-any.whl.metadata (1.5 kB)\n",
            "Requirement already satisfied: pydantic>=2.7.4 in /usr/local/lib/python3.11/dist-packages (from langgraph) (2.11.7)\n",
            "Requirement already satisfied: xxhash>=3.5.0 in /usr/local/lib/python3.11/dist-packages (from langgraph) (3.5.0)\n",
            "Requirement already satisfied: langsmith>=0.3.45 in /usr/local/lib/python3.11/dist-packages (from langchain-core>=0.1->langgraph) (0.4.14)\n",
            "Requirement already satisfied: tenacity!=8.4.0,<10.0.0,>=8.1.0 in /usr/local/lib/python3.11/dist-packages (from langchain-core>=0.1->langgraph) (9.1.2)\n",
            "Requirement already satisfied: jsonpatch<2.0,>=1.33 in /usr/local/lib/python3.11/dist-packages (from langchain-core>=0.1->langgraph) (1.33)\n",
            "Requirement already satisfied: PyYAML>=5.3 in /usr/local/lib/python3.11/dist-packages (from langchain-core>=0.1->langgraph) (6.0.2)\n",
            "Requirement already satisfied: typing-extensions>=4.7 in /usr/local/lib/python3.11/dist-packages (from langchain-core>=0.1->langgraph) (4.14.1)\n",
            "Requirement already satisfied: packaging>=23.2 in /usr/local/lib/python3.11/dist-packages (from langchain-core>=0.1->langgraph) (25.0)\n",
            "Collecting ormsgpack>=1.10.0 (from langgraph-checkpoint<3.0.0,>=2.1.0->langgraph)\n",
            "  Downloading ormsgpack-1.10.0-cp311-cp311-manylinux_2_17_x86_64.manylinux2014_x86_64.whl.metadata (43 kB)\n",
            "\u001b[2K     \u001b[90m━━━━━━━━━━━━━━━━━━━━━━━━━━━━━━━━━━━━━━━━\u001b[0m \u001b[32m43.7/43.7 kB\u001b[0m \u001b[31m2.3 MB/s\u001b[0m eta \u001b[36m0:00:00\u001b[0m\n",
            "\u001b[?25hRequirement already satisfied: httpx>=0.25.2 in /usr/local/lib/python3.11/dist-packages (from langgraph-sdk<0.3.0,>=0.2.0->langgraph) (0.28.1)\n",
            "Requirement already satisfied: orjson>=3.10.1 in /usr/local/lib/python3.11/dist-packages (from langgraph-sdk<0.3.0,>=0.2.0->langgraph) (3.11.2)\n",
            "Requirement already satisfied: annotated-types>=0.6.0 in /usr/local/lib/python3.11/dist-packages (from pydantic>=2.7.4->langgraph) (0.7.0)\n",
            "Requirement already satisfied: pydantic-core==2.33.2 in /usr/local/lib/python3.11/dist-packages (from pydantic>=2.7.4->langgraph) (2.33.2)\n",
            "Requirement already satisfied: typing-inspection>=0.4.0 in /usr/local/lib/python3.11/dist-packages (from pydantic>=2.7.4->langgraph) (0.4.1)\n",
            "Requirement already satisfied: anyio in /usr/local/lib/python3.11/dist-packages (from httpx>=0.25.2->langgraph-sdk<0.3.0,>=0.2.0->langgraph) (4.10.0)\n",
            "Requirement already satisfied: certifi in /usr/local/lib/python3.11/dist-packages (from httpx>=0.25.2->langgraph-sdk<0.3.0,>=0.2.0->langgraph) (2025.8.3)\n",
            "Requirement already satisfied: httpcore==1.* in /usr/local/lib/python3.11/dist-packages (from httpx>=0.25.2->langgraph-sdk<0.3.0,>=0.2.0->langgraph) (1.0.9)\n",
            "Requirement already satisfied: idna in /usr/local/lib/python3.11/dist-packages (from httpx>=0.25.2->langgraph-sdk<0.3.0,>=0.2.0->langgraph) (3.10)\n",
            "Requirement already satisfied: h11>=0.16 in /usr/local/lib/python3.11/dist-packages (from httpcore==1.*->httpx>=0.25.2->langgraph-sdk<0.3.0,>=0.2.0->langgraph) (0.16.0)\n",
            "Requirement already satisfied: jsonpointer>=1.9 in /usr/local/lib/python3.11/dist-packages (from jsonpatch<2.0,>=1.33->langchain-core>=0.1->langgraph) (3.0.0)\n",
            "Requirement already satisfied: requests-toolbelt>=1.0.0 in /usr/local/lib/python3.11/dist-packages (from langsmith>=0.3.45->langchain-core>=0.1->langgraph) (1.0.0)\n",
            "Requirement already satisfied: requests>=2.0.0 in /usr/local/lib/python3.11/dist-packages (from langsmith>=0.3.45->langchain-core>=0.1->langgraph) (2.32.3)\n",
            "Requirement already satisfied: zstandard>=0.23.0 in /usr/local/lib/python3.11/dist-packages (from langsmith>=0.3.45->langchain-core>=0.1->langgraph) (0.23.0)\n",
            "Requirement already satisfied: charset-normalizer<4,>=2 in /usr/local/lib/python3.11/dist-packages (from requests>=2.0.0->langsmith>=0.3.45->langchain-core>=0.1->langgraph) (3.4.3)\n",
            "Requirement already satisfied: urllib3<3,>=1.21.1 in /usr/local/lib/python3.11/dist-packages (from requests>=2.0.0->langsmith>=0.3.45->langchain-core>=0.1->langgraph) (2.5.0)\n",
            "Requirement already satisfied: sniffio>=1.1 in /usr/local/lib/python3.11/dist-packages (from anyio->httpx>=0.25.2->langgraph-sdk<0.3.0,>=0.2.0->langgraph) (1.3.1)\n",
            "Downloading langgraph-0.6.5-py3-none-any.whl (153 kB)\n",
            "\u001b[2K   \u001b[90m━━━━━━━━━━━━━━━━━━━━━━━━━━━━━━━━━━━━━━━━\u001b[0m \u001b[32m153.2/153.2 kB\u001b[0m \u001b[31m8.4 MB/s\u001b[0m eta \u001b[36m0:00:00\u001b[0m\n",
            "\u001b[?25hDownloading langgraph_checkpoint-2.1.1-py3-none-any.whl (43 kB)\n",
            "\u001b[2K   \u001b[90m━━━━━━━━━━━━━━━━━━━━━━━━━━━━━━━━━━━━━━━━\u001b[0m \u001b[32m43.9/43.9 kB\u001b[0m \u001b[31m2.9 MB/s\u001b[0m eta \u001b[36m0:00:00\u001b[0m\n",
            "\u001b[?25hDownloading langgraph_prebuilt-0.6.4-py3-none-any.whl (28 kB)\n",
            "Downloading langgraph_sdk-0.2.0-py3-none-any.whl (50 kB)\n",
            "\u001b[2K   \u001b[90m━━━━━━━━━━━━━━━━━━━━━━━━━━━━━━━━━━━━━━━━\u001b[0m \u001b[32m50.6/50.6 kB\u001b[0m \u001b[31m4.1 MB/s\u001b[0m eta \u001b[36m0:00:00\u001b[0m\n",
            "\u001b[?25hDownloading ormsgpack-1.10.0-cp311-cp311-manylinux_2_17_x86_64.manylinux2014_x86_64.whl (216 kB)\n",
            "\u001b[2K   \u001b[90m━━━━━━━━━━━━━━━━━━━━━━━━━━━━━━━━━━━━━━━━\u001b[0m \u001b[32m216.5/216.5 kB\u001b[0m \u001b[31m17.6 MB/s\u001b[0m eta \u001b[36m0:00:00\u001b[0m\n",
            "\u001b[?25hInstalling collected packages: ormsgpack, langgraph-sdk, langgraph-checkpoint, langgraph-prebuilt, langgraph\n",
            "Successfully installed langgraph-0.6.5 langgraph-checkpoint-2.1.1 langgraph-prebuilt-0.6.4 langgraph-sdk-0.2.0 ormsgpack-1.10.0\n"
          ]
        }
      ],
      "source": [
        "!pip install langgraph"
      ]
    },
    {
      "cell_type": "code",
      "execution_count": null,
      "metadata": {
        "id": "6bSQRzRRjl7G"
      },
      "outputs": [],
      "source": [
        "from typing import Dict, TypedDict\n",
        "from langgraph.graph import StateGraph"
      ]
    },
    {
      "cell_type": "code",
      "execution_count": null,
      "metadata": {
        "id": "UdaBIbvQkcvG"
      },
      "outputs": [],
      "source": [
        "class AgentState(TypedDict):\n",
        "  message : str\n",
        "\n",
        "def greeting_node(state: AgentState) -> AgentState:\n",
        "  \"\"\"Simple node that adds a greeting message to the state\"\"\"\n",
        "\n",
        "  state['message'] = \"Hey\" + state[\"message\"] + \", how is your day going?\"\n",
        "\n",
        "  return state"
      ]
    },
    {
      "cell_type": "code",
      "execution_count": null,
      "metadata": {
        "id": "XIrzWT8KlxyF"
      },
      "outputs": [],
      "source": [
        "graph = StateGraph(AgentState)\n",
        "\n",
        "graph.add_node(\"greeter\", greeting_node)\n",
        "\n",
        "graph.set_entry_point(\"greeter\")\n",
        "\n",
        "graph.set_finish_point(\"greeter\")\n",
        "\n",
        "app = graph.compile()\n",
        "\n"
      ]
    },
    {
      "cell_type": "code",
      "execution_count": null,
      "metadata": {
        "colab": {
          "base_uri": "https://localhost:8080/",
          "height": 251
        },
        "id": "lcPvMD6NUXYB",
        "outputId": "4bbf8aba-3347-40c0-97cc-5d7c634c9dd4"
      },
      "outputs": [
        {
          "data": {
            "image/png": "[encoded data removed]",
            "text/plain": [
              "<IPython.core.display.Image object>"
            ]
          },
          "metadata": {},
          "output_type": "display_data"
        }
      ],
      "source": [
        "from IPython.display import Image\n",
        "display(Image(app.get_graph().draw_mermaid_png()))"
      ]
    },
    {
      "cell_type": "code",
      "execution_count": null,
      "metadata": {
        "id": "aHQxKCdRWIcH"
      },
      "outputs": [],
      "source": [
        "result = app.invoke({\"message\": \"Bob\"})"
      ]
    },
    {
      "cell_type": "code",
      "execution_count": null,
      "metadata": {
        "colab": {
          "base_uri": "https://localhost:8080/"
        },
        "id": "_QljjSVHWSRC",
        "outputId": "bb739a28-d6a3-4907-ce88-7880789741b2"
      },
      "outputs": [
        {
          "data": {
            "text/plain": [
              "{'message': 'HeyBob, how is your day going?'}"
            ]
          },
          "execution_count": 8,
          "metadata": {},
          "output_type": "execute_result"
        }
      ],
      "source": [
        "result"
      ]
    },
    {
      "cell_type": "code",
      "execution_count": null,
      "metadata": {
        "id": "PVXi9sgMWS8d"
      },
      "outputs": [],
      "source": [
        "from typing import Dict, TypedDict,List\n",
        "\n",
        "class AgentState(TypedDict):\n",
        "  values: List[int]\n",
        "  name: str\n",
        "  result: str"
      ]
    },
    {
      "cell_type": "code",
      "execution_count": null,
      "metadata": {
        "id": "l15LJUEnW7-z"
      },
      "outputs": [],
      "source": [
        "def process_values(state: AgentState) -> AgentState:\n",
        "    \"\"\"This function handles multiple different inputs\"\"\"\n",
        "    print(state)\n",
        "\n",
        "    state[\"result\"] = f\"Hi there {state['name']}! Your sum = {sum(state['values'])}\"\n",
        "\n",
        "    print(state)\n",
        "    return state"
      ]
    },
    {
      "cell_type": "code",
      "execution_count": null,
      "metadata": {
        "id": "lqeUh9eAXXd_"
      },
      "outputs": [],
      "source": [
        "graph = StateGraph(AgentState)\n",
        "\n",
        "graph.add_node(\"processor\", process_values)\n",
        "graph.set_entry_point(\"processor\") # Set the starting node\n",
        "graph.set_finish_point(\"processor\") # Set the ending node\n",
        "\n",
        "app = graph.compile() # Compiling the graph"
      ]
    },
    {
      "cell_type": "code",
      "execution_count": null,
      "metadata": {
        "colab": {
          "base_uri": "https://localhost:8080/",
          "height": 251
        },
        "id": "iuowX4cVXph-",
        "outputId": "d610e81d-14fa-45bc-fd83-64c35a8d4242"
      },
      "outputs": [
        {
          "data": {
            "image/png": "[encoded data removed]",
            "text/plain": [
              "<IPython.core.display.Image object>"
            ]
          },
          "metadata": {},
          "output_type": "display_data"
        }
      ],
      "source": [
        "from IPython.display import Image, display\n",
        "display(Image(app.get_graph().draw_mermaid_png()))"
      ]
    },
    {
      "cell_type": "code",
      "execution_count": null,
      "metadata": {
        "colab": {
          "base_uri": "https://localhost:8080/"
        },
        "id": "Qsu_cm95Xq4_",
        "outputId": "87860578-6fcb-4f77-8f08-cb0b85d11c64"
      },
      "outputs": [
        {
          "name": "stdout",
          "output_type": "stream",
          "text": [
            "{'values': [1, 2, 3, 4], 'name': 'Steve'}\n",
            "{'values': [1, 2, 3, 4], 'name': 'Steve', 'result': 'Hi there Steve! Your sum = 10'}\n"
          ]
        }
      ],
      "source": [
        "answers = app.invoke({\"values\": [1,2,3,4], \"name\": \"Steve\"})"
      ]
    },
    {
      "cell_type": "code",
      "execution_count": null,
      "metadata": {
        "colab": {
          "base_uri": "https://localhost:8080/",
          "height": 1000
        },
        "id": "JrAQvse2bZWo",
        "outputId": "f4bf7c81-929c-48b5-996b-23bec7d31b3d"
      },
      "outputs": [
        {
          "name": "stdout",
          "output_type": "stream",
          "text": [
            "Collecting langchain_google_genai\n",
            "  Downloading langchain_google_genai-2.1.9-py3-none-any.whl.metadata (7.2 kB)\n",
            "Collecting filetype<2.0.0,>=1.2.0 (from langchain_google_genai)\n",
            "  Downloading filetype-1.2.0-py2.py3-none-any.whl.metadata (6.5 kB)\n",
            "Collecting google-ai-generativelanguage<0.7.0,>=0.6.18 (from langchain_google_genai)\n",
            "  Downloading google_ai_generativelanguage-0.6.18-py3-none-any.whl.metadata (9.8 kB)\n",
            "Requirement already satisfied: langchain-core<0.4.0,>=0.3.68 in /usr/local/lib/python3.11/dist-packages (from langchain_google_genai) (0.3.74)\n",
            "Requirement already satisfied: pydantic<3,>=2 in /usr/local/lib/python3.11/dist-packages (from langchain_google_genai) (2.11.7)\n",
            "Requirement already satisfied: google-api-core!=2.0.*,!=2.1.*,!=2.10.*,!=2.2.*,!=2.3.*,!=2.4.*,!=2.5.*,!=2.6.*,!=2.7.*,!=2.8.*,!=2.9.*,<3.0.0,>=1.34.1 in /usr/local/lib/python3.11/dist-packages (from google-api-core[grpc]!=2.0.*,!=2.1.*,!=2.10.*,!=2.2.*,!=2.3.*,!=2.4.*,!=2.5.*,!=2.6.*,!=2.7.*,!=2.8.*,!=2.9.*,<3.0.0,>=1.34.1->google-ai-generativelanguage<0.7.0,>=0.6.18->langchain_google_genai) (2.25.1)\n",
            "Requirement already satisfied: google-auth!=2.24.0,!=2.25.0,<3.0.0,>=2.14.1 in /usr/local/lib/python3.11/dist-packages (from google-ai-generativelanguage<0.7.0,>=0.6.18->langchain_google_genai) (2.38.0)\n",
            "Requirement already satisfied: proto-plus<2.0.0,>=1.22.3 in /usr/local/lib/python3.11/dist-packages (from google-ai-generativelanguage<0.7.0,>=0.6.18->langchain_google_genai) (1.26.1)\n",
            "Requirement already satisfied: protobuf!=4.21.0,!=4.21.1,!=4.21.2,!=4.21.3,!=4.21.4,!=4.21.5,<7.0.0,>=3.20.2 in /usr/local/lib/python3.11/dist-packages (from google-ai-generativelanguage<0.7.0,>=0.6.18->langchain_google_genai) (5.29.5)\n",
            "Requirement already satisfied: langsmith>=0.3.45 in /usr/local/lib/python3.11/dist-packages (from langchain-core<0.4.0,>=0.3.68->langchain_google_genai) (0.4.14)\n",
            "Requirement already satisfied: tenacity!=8.4.0,<10.0.0,>=8.1.0 in /usr/local/lib/python3.11/dist-packages (from langchain-core<0.4.0,>=0.3.68->langchain_google_genai) (9.1.2)\n",
            "Requirement already satisfied: jsonpatch<2.0,>=1.33 in /usr/local/lib/python3.11/dist-packages (from langchain-core<0.4.0,>=0.3.68->langchain_google_genai) (1.33)\n",
            "Requirement already satisfied: PyYAML>=5.3 in /usr/local/lib/python3.11/dist-packages (from langchain-core<0.4.0,>=0.3.68->langchain_google_genai) (6.0.2)\n",
            "Requirement already satisfied: typing-extensions>=4.7 in /usr/local/lib/python3.11/dist-packages (from langchain-core<0.4.0,>=0.3.68->langchain_google_genai) (4.14.1)\n",
            "Requirement already satisfied: packaging>=23.2 in /usr/local/lib/python3.11/dist-packages (from langchain-core<0.4.0,>=0.3.68->langchain_google_genai) (25.0)\n",
            "Requirement already satisfied: annotated-types>=0.6.0 in /usr/local/lib/python3.11/dist-packages (from pydantic<3,>=2->langchain_google_genai) (0.7.0)\n",
            "Requirement already satisfied: pydantic-core==2.33.2 in /usr/local/lib/python3.11/dist-packages (from pydantic<3,>=2->langchain_google_genai) (2.33.2)\n",
            "Requirement already satisfied: typing-inspection>=0.4.0 in /usr/local/lib/python3.11/dist-packages (from pydantic<3,>=2->langchain_google_genai) (0.4.1)\n",
            "Requirement already satisfied: googleapis-common-protos<2.0.0,>=1.56.2 in /usr/local/lib/python3.11/dist-packages (from google-api-core!=2.0.*,!=2.1.*,!=2.10.*,!=2.2.*,!=2.3.*,!=2.4.*,!=2.5.*,!=2.6.*,!=2.7.*,!=2.8.*,!=2.9.*,<3.0.0,>=1.34.1->google-api-core[grpc]!=2.0.*,!=2.1.*,!=2.10.*,!=2.2.*,!=2.3.*,!=2.4.*,!=2.5.*,!=2.6.*,!=2.7.*,!=2.8.*,!=2.9.*,<3.0.0,>=1.34.1->google-ai-generativelanguage<0.7.0,>=0.6.18->langchain_google_genai) (1.70.0)\n",
            "Requirement already satisfied: requests<3.0.0,>=2.18.0 in /usr/local/lib/python3.11/dist-packages (from google-api-core!=2.0.*,!=2.1.*,!=2.10.*,!=2.2.*,!=2.3.*,!=2.4.*,!=2.5.*,!=2.6.*,!=2.7.*,!=2.8.*,!=2.9.*,<3.0.0,>=1.34.1->google-api-core[grpc]!=2.0.*,!=2.1.*,!=2.10.*,!=2.2.*,!=2.3.*,!=2.4.*,!=2.5.*,!=2.6.*,!=2.7.*,!=2.8.*,!=2.9.*,<3.0.0,>=1.34.1->google-ai-generativelanguage<0.7.0,>=0.6.18->langchain_google_genai) (2.32.3)\n",
            "Requirement already satisfied: grpcio<2.0.0,>=1.33.2 in /usr/local/lib/python3.11/dist-packages (from google-api-core[grpc]!=2.0.*,!=2.1.*,!=2.10.*,!=2.2.*,!=2.3.*,!=2.4.*,!=2.5.*,!=2.6.*,!=2.7.*,!=2.8.*,!=2.9.*,<3.0.0,>=1.34.1->google-ai-generativelanguage<0.7.0,>=0.6.18->langchain_google_genai) (1.74.0)\n",
            "Requirement already satisfied: grpcio-status<2.0.0,>=1.33.2 in /usr/local/lib/python3.11/dist-packages (from google-api-core[grpc]!=2.0.*,!=2.1.*,!=2.10.*,!=2.2.*,!=2.3.*,!=2.4.*,!=2.5.*,!=2.6.*,!=2.7.*,!=2.8.*,!=2.9.*,<3.0.0,>=1.34.1->google-ai-generativelanguage<0.7.0,>=0.6.18->langchain_google_genai) (1.71.2)\n",
            "Requirement already satisfied: cachetools<6.0,>=2.0.0 in /usr/local/lib/python3.11/dist-packages (from google-auth!=2.24.0,!=2.25.0,<3.0.0,>=2.14.1->google-ai-generativelanguage<0.7.0,>=0.6.18->langchain_google_genai) (5.5.2)\n",
            "Requirement already satisfied: pyasn1-modules>=0.2.1 in /usr/local/lib/python3.11/dist-packages (from google-auth!=2.24.0,!=2.25.0,<3.0.0,>=2.14.1->google-ai-generativelanguage<0.7.0,>=0.6.18->langchain_google_genai) (0.4.2)\n",
            "Requirement already satisfied: rsa<5,>=3.1.4 in /usr/local/lib/python3.11/dist-packages (from google-auth!=2.24.0,!=2.25.0,<3.0.0,>=2.14.1->google-ai-generativelanguage<0.7.0,>=0.6.18->langchain_google_genai) (4.9.1)\n",
            "Requirement already satisfied: jsonpointer>=1.9 in /usr/local/lib/python3.11/dist-packages (from jsonpatch<2.0,>=1.33->langchain-core<0.4.0,>=0.3.68->langchain_google_genai) (3.0.0)\n",
            "Requirement already satisfied: httpx<1,>=0.23.0 in /usr/local/lib/python3.11/dist-packages (from langsmith>=0.3.45->langchain-core<0.4.0,>=0.3.68->langchain_google_genai) (0.28.1)\n",
            "Requirement already satisfied: orjson>=3.9.14 in /usr/local/lib/python3.11/dist-packages (from langsmith>=0.3.45->langchain-core<0.4.0,>=0.3.68->langchain_google_genai) (3.11.2)\n",
            "Requirement already satisfied: requests-toolbelt>=1.0.0 in /usr/local/lib/python3.11/dist-packages (from langsmith>=0.3.45->langchain-core<0.4.0,>=0.3.68->langchain_google_genai) (1.0.0)\n",
            "Requirement already satisfied: zstandard>=0.23.0 in /usr/local/lib/python3.11/dist-packages (from langsmith>=0.3.45->langchain-core<0.4.0,>=0.3.68->langchain_google_genai) (0.23.0)\n",
            "Requirement already satisfied: anyio in /usr/local/lib/python3.11/dist-packages (from httpx<1,>=0.23.0->langsmith>=0.3.45->langchain-core<0.4.0,>=0.3.68->langchain_google_genai) (4.10.0)\n",
            "Requirement already satisfied: certifi in /usr/local/lib/python3.11/dist-packages (from httpx<1,>=0.23.0->langsmith>=0.3.45->langchain-core<0.4.0,>=0.3.68->langchain_google_genai) (2025.8.3)\n",
            "Requirement already satisfied: httpcore==1.* in /usr/local/lib/python3.11/dist-packages (from httpx<1,>=0.23.0->langsmith>=0.3.45->langchain-core<0.4.0,>=0.3.68->langchain_google_genai) (1.0.9)\n",
            "Requirement already satisfied: idna in /usr/local/lib/python3.11/dist-packages (from httpx<1,>=0.23.0->langsmith>=0.3.45->langchain-core<0.4.0,>=0.3.68->langchain_google_genai) (3.10)\n",
            "Requirement already satisfied: h11>=0.16 in /usr/local/lib/python3.11/dist-packages (from httpcore==1.*->httpx<1,>=0.23.0->langsmith>=0.3.45->langchain-core<0.4.0,>=0.3.68->langchain_google_genai) (0.16.0)\n",
            "Requirement already satisfied: pyasn1<0.7.0,>=0.6.1 in /usr/local/lib/python3.11/dist-packages (from pyasn1-modules>=0.2.1->google-auth!=2.24.0,!=2.25.0,<3.0.0,>=2.14.1->google-ai-generativelanguage<0.7.0,>=0.6.18->langchain_google_genai) (0.6.1)\n",
            "Requirement already satisfied: charset-normalizer<4,>=2 in /usr/local/lib/python3.11/dist-packages (from requests<3.0.0,>=2.18.0->google-api-core!=2.0.*,!=2.1.*,!=2.10.*,!=2.2.*,!=2.3.*,!=2.4.*,!=2.5.*,!=2.6.*,!=2.7.*,!=2.8.*,!=2.9.*,<3.0.0,>=1.34.1->google-api-core[grpc]!=2.0.*,!=2.1.*,!=2.10.*,!=2.2.*,!=2.3.*,!=2.4.*,!=2.5.*,!=2.6.*,!=2.7.*,!=2.8.*,!=2.9.*,<3.0.0,>=1.34.1->google-ai-generativelanguage<0.7.0,>=0.6.18->langchain_google_genai) (3.4.3)\n",
            "Requirement already satisfied: urllib3<3,>=1.21.1 in /usr/local/lib/python3.11/dist-packages (from requests<3.0.0,>=2.18.0->google-api-core!=2.0.*,!=2.1.*,!=2.10.*,!=2.2.*,!=2.3.*,!=2.4.*,!=2.5.*,!=2.6.*,!=2.7.*,!=2.8.*,!=2.9.*,<3.0.0,>=1.34.1->google-api-core[grpc]!=2.0.*,!=2.1.*,!=2.10.*,!=2.2.*,!=2.3.*,!=2.4.*,!=2.5.*,!=2.6.*,!=2.7.*,!=2.8.*,!=2.9.*,<3.0.0,>=1.34.1->google-ai-generativelanguage<0.7.0,>=0.6.18->langchain_google_genai) (2.5.0)\n",
            "Requirement already satisfied: sniffio>=1.1 in /usr/local/lib/python3.11/dist-packages (from anyio->httpx<1,>=0.23.0->langsmith>=0.3.45->langchain-core<0.4.0,>=0.3.68->langchain_google_genai) (1.3.1)\n",
            "Downloading langchain_google_genai-2.1.9-py3-none-any.whl (49 kB)\n",
            "\u001b[2K   \u001b[90m━━━━━━━━━━━━━━━━━━━━━━━━━━━━━━━━━━━━━━━━\u001b[0m \u001b[32m49.4/49.4 kB\u001b[0m \u001b[31m3.7 MB/s\u001b[0m eta \u001b[36m0:00:00\u001b[0m\n",
            "\u001b[?25hDownloading filetype-1.2.0-py2.py3-none-any.whl (19 kB)\n",
            "Downloading google_ai_generativelanguage-0.6.18-py3-none-any.whl (1.4 MB)\n",
            "\u001b[2K   \u001b[90m━━━━━━━━━━━━━━━━━━━━━━━━━━━━━━━━━━━━━━━━\u001b[0m \u001b[32m1.4/1.4 MB\u001b[0m \u001b[31m20.5 MB/s\u001b[0m eta \u001b[36m0:00:00\u001b[0m\n",
            "\u001b[?25hInstalling collected packages: filetype, google-ai-generativelanguage, langchain_google_genai\n",
            "  Attempting uninstall: google-ai-generativelanguage\n",
            "    Found existing installation: google-ai-generativelanguage 0.6.15\n",
            "    Uninstalling google-ai-generativelanguage-0.6.15:\n",
            "      Successfully uninstalled google-ai-generativelanguage-0.6.15\n",
            "\u001b[31mERROR: pip's dependency resolver does not currently take into account all the packages that are installed. This behaviour is the source of the following dependency conflicts.\n",
            "google-generativeai 0.8.5 requires google-ai-generativelanguage==0.6.15, but you have google-ai-generativelanguage 0.6.18 which is incompatible.\u001b[0m\u001b[31m\n",
            "\u001b[0mSuccessfully installed filetype-1.2.0 google-ai-generativelanguage-0.6.18 langchain_google_genai-2.1.9\n"
          ]
        },
        {
          "data": {
            "application/vnd.colab-display-data+json": {
              "id": "a9029caeaa604a678c34c6049fa02441",
              "pip_warning": {
                "packages": [
                  "google"
                ]
              }
            }
          },
          "metadata": {},
          "output_type": "display_data"
        }
      ],
      "source": [
        "!pip install langchain_google_genai"
      ]
    },
    {
      "cell_type": "code",
      "execution_count": null,
      "metadata": {
        "id": "WiySInF1cuMU"
      },
      "outputs": [],
      "source": [
        "import os\n",
        "from google.colab import userdata\n",
        "\n",
        "os.environ['GOOGLE_API_KEY'] = userdata.get('GOOGLE_API_KEY')\n"
      ]
    },
    {
      "cell_type": "code",
      "execution_count": null,
      "metadata": {
        "id": "wt-n5TD5bDJ6"
      },
      "outputs": [],
      "source": [
        "from typing import TypedDict, List\n",
        "from langchain_core.messages import HumanMessage\n",
        "from langchain_google_genai import ChatGoogleGenerativeAI\n",
        "from langgraph.graph import StateGraph, START, END"
      ]
    },
    {
      "cell_type": "code",
      "execution_count": null,
      "metadata": {
        "id": "2HoGE-x5ct09"
      },
      "outputs": [],
      "source": [
        "class AgentState(TypedDict):\n",
        "  messages: List[HumanMessage]\n",
        "\n",
        "llm = ChatGoogleGenerativeAI(model=\"gemini-2.5-flash\")"
      ]
    },
    {
      "cell_type": "code",
      "execution_count": null,
      "metadata": {
        "id": "oRXAFXtSdI38"
      },
      "outputs": [],
      "source": [
        "def process(state: AgentState) -> AgentState:\n",
        "  response = llm.invoke(state[\"messages\"])\n",
        "  print(response.content)\n",
        "  state[\"messages\"].append(HumanMessage(content=response.content))\n",
        "  return state\n"
      ]
    },
    {
      "cell_type": "code",
      "execution_count": null,
      "metadata": {
        "id": "nRPsoieAd3ht"
      },
      "outputs": [],
      "source": [
        "graph = StateGraph(AgentState)\n",
        "graph.add_node(\"process\", process)\n",
        "graph.add_edge(START, \"process\")\n",
        "graph.add_edge(\"process\", END)\n",
        "\n",
        "agent = graph.compile()"
      ]
    },
    {
      "cell_type": "code",
      "execution_count": null,
      "metadata": {
        "colab": {
          "base_uri": "https://localhost:8080/"
        },
        "id": "gF9pE1tYeNq1",
        "outputId": "7393aad1-5a41-491f-c4ee-008282c9ae4f"
      },
      "outputs": [
        {
          "name": "stdout",
          "output_type": "stream",
          "text": [
            "Enter :exit\n",
            "Understood. If you're finished with our conversation, you can simply stop typing or close your browser tab/application.\n",
            "\n",
            "Is there anything else I can assist you with before you go?\n"
          ]
        },
        {
          "data": {
            "text/plain": [
              "{'messages': [HumanMessage(content='exit', additional_kwargs={}, response_metadata={}),\n",
              "  HumanMessage(content=\"Understood. If you're finished with our conversation, you can simply stop typing or close your browser tab/application.\\n\\nIs there anything else I can assist you with before you go?\", additional_kwargs={}, response_metadata={})]}"
            ]
          },
          "execution_count": 20,
          "metadata": {},
          "output_type": "execute_result"
        }
      ],
      "source": [
        "user_input = input(\"Enter :\")\n",
        "agent.invoke({\"messages\": [HumanMessage(content=user_input)]})"
      ]
    },
    {
      "cell_type": "code",
      "execution_count": null,
      "metadata": {
        "colab": {
          "base_uri": "https://localhost:8080/",
          "height": 251
        },
        "id": "9mB1EHZRaskK",
        "outputId": "c7816c2b-5466-4b87-e020-a1e36eae698d"
      },
      "outputs": [
        {
          "data": {
            "image/png": "[encoded data removed]",
            "text/plain": [
              "<IPython.core.display.Image object>"
            ]
          },
          "metadata": {},
          "output_type": "display_data"
        }
      ],
      "source": [
        "from IPython.display import Image, display\n",
        "display(Image(agent.get_graph().draw_mermaid_png()))"
      ]
    },
    {
      "cell_type": "markdown",
      "metadata": {
        "id": "GeaPtq4OavVx"
      },
      "source": [
        "**Memory Agent**"
      ]
    },
    {
      "cell_type": "code",
      "execution_count": null,
      "metadata": {
        "id": "SXbJKNeGa11O"
      },
      "outputs": [],
      "source": [
        "from typing import TypedDict, List, Union\n",
        "from langchain_core.messages import HumanMessage, AIMessage\n",
        "from langchain_google_genai import ChatGoogleGenerativeAI\n",
        "from langgraph.graph import StateGraph, START, END\n"
      ]
    },
    {
      "cell_type": "code",
      "execution_count": null,
      "metadata": {
        "id": "WobO_09zbGIO"
      },
      "outputs": [],
      "source": [
        "class AgentState(TypedDict):\n",
        "  messages: List[Union[HumanMessage, AIMessage]]"
      ]
    },
    {
      "cell_type": "code",
      "execution_count": null,
      "metadata": {
        "id": "zI_TqtmPbmfC"
      },
      "outputs": [],
      "source": [
        "llm = ChatGoogleGenerativeAI(model=\"gemini-2.5-flash\")"
      ]
    },
    {
      "cell_type": "code",
      "execution_count": null,
      "metadata": {
        "id": "l39r6txEb3DY"
      },
      "outputs": [],
      "source": [
        "def process(state: AgentState) -> AgentState:\n",
        "  \"\"\" This node will solve the request to input \"\"\"\n",
        "  response = llm.invoke(state[\"messages\"])\n",
        "  state[\"messages\"].append(AIMessage(content=response.content))\n",
        "  print(response.content)\n",
        "  return state"
      ]
    },
    {
      "cell_type": "code",
      "execution_count": null,
      "metadata": {
        "id": "JVNc8VqpcUFd"
      },
      "outputs": [],
      "source": [
        "graph = StateGraph(AgentState)\n",
        "graph.add_node(\"process\", process)\n",
        "graph.add_edge(START, \"process\")\n",
        "graph.add_edge(\"process\", END)\n",
        "\n",
        "agent = graph.compile()\n",
        "\n",
        "conversation_history = []"
      ]
    },
    {
      "cell_type": "code",
      "execution_count": null,
      "metadata": {
        "colab": {
          "base_uri": "https://localhost:8080/"
        },
        "id": "9hIfiDSAceoq",
        "outputId": "c14579d2-3483-4e2f-fd50-1c16d1b63c62"
      },
      "outputs": [
        {
          "name": "stdout",
          "output_type": "stream",
          "text": [
            "Enter :exit\n"
          ]
        }
      ],
      "source": [
        "user_input = input(\"Enter :\")\n",
        "\n",
        "while user_input != \"exit\":\n",
        "  conversation_history.append(HumanMessage(content=user_input))\n",
        "  result = agent.invoke({\"messages\": conversation_history})\n",
        "  conversation_history.append(result[\"messages\"][-1])\n",
        "  user_input = input(\"Enter :\")"
      ]
    },
    {
      "cell_type": "markdown",
      "metadata": {
        "id": "hCqrNKMOhTGm"
      },
      "source": [
        "ReAct - Reasoning and Acting Agent"
      ]
    },
    {
      "cell_type": "code",
      "execution_count": null,
      "metadata": {
        "id": "SXTfjRCrhZwx"
      },
      "outputs": [],
      "source": [
        "from typing import Annotated, Sequence, TypedDict\n",
        "from langchain_core.messages import BaseMessage # The foundational class for all message types in LangGraph\n",
        "from langchain_core.messages import ToolMessage # Passes data back to LLM after it calls a tool such as the content and the tool_call_id\n",
        "from langchain_core.messages import SystemMessage # Message for providing instructions to the LLM\n",
        "from langchain_core.tools import tool\n",
        "from langgraph.graph.message import add_messages\n",
        "from langgraph.graph import StateGraph, END\n",
        "from langgraph.prebuilt import ToolNode\n",
        "from langchain_google_genai import ChatGoogleGenerativeAI\n"
      ]
    },
    {
      "cell_type": "code",
      "execution_count": null,
      "metadata": {
        "id": "rt4rKneQfr6B"
      },
      "outputs": [],
      "source": [
        "class AgentState(TypedDict):\n",
        "  messages: Annotated[Sequence[BaseMessage], add_messages]"
      ]
    },
    {
      "cell_type": "code",
      "execution_count": null,
      "metadata": {
        "id": "05dCaImbgDyQ"
      },
      "outputs": [],
      "source": [
        "@tool\n",
        "def add(a: int, b:int):\n",
        "    \"\"\"This is an addition function that adds 2 numbers together\"\"\"\n",
        "\n",
        "    return a + b\n",
        "\n",
        "@tool\n",
        "def subtract(a: int, b: int):\n",
        "    \"\"\"Subtraction function\"\"\"\n",
        "    return a - b\n",
        "\n",
        "@tool\n",
        "def multiply(a: int, b: int):\n",
        "    \"\"\"Multiplication function\"\"\"\n",
        "    return a * b"
      ]
    },
    {
      "cell_type": "code",
      "execution_count": null,
      "metadata": {
        "id": "8i5cKBd2gQGh"
      },
      "outputs": [],
      "source": [
        "tools = [add, subtract, multiply]"
      ]
    },
    {
      "cell_type": "code",
      "execution_count": null,
      "metadata": {
        "id": "ZY-KlAv9hiQY"
      },
      "outputs": [],
      "source": [
        "pip install -q langchain langchain-google-genai pydantic"
      ]
    },
    {
      "cell_type": "code",
      "execution_count": null,
      "metadata": {
        "id": "D_YpT6hPgTet"
      },
      "outputs": [],
      "source": [
        "model = ChatGoogleGenerativeAI(model=\"gemini-2.5-flash\", temperature=0).bind_tools(tools)\n"
      ]
    },
    {
      "cell_type": "code",
      "execution_count": null,
      "metadata": {
        "id": "jYZCGTbdhE-d"
      },
      "outputs": [],
      "source": [
        "def model_call(state: AgentState) -> AgentState:\n",
        "  system_prompt = SystemMessage(content =  \"You are my AI assistant, please answer my query to the best of your ability.\")\n",
        "  response = model.invoke([system_prompt] + state[\"messages\"])\n",
        "  # state[\"messages\"].append(response)\n",
        "  return { \"messages\" : [response]};"
      ]
    },
    {
      "cell_type": "code",
      "execution_count": null,
      "metadata": {
        "id": "080bBbwvj4rk"
      },
      "outputs": [],
      "source": [
        "tool_node = ToolNode(tools=tools)\n"
      ]
    },
    {
      "cell_type": "code",
      "execution_count": null,
      "metadata": {
        "colab": {
          "base_uri": "https://localhost:8080/"
        },
        "id": "C2mVp4XOkq2Z",
        "outputId": "faac49e1-c97d-45c9-ded9-87593fab228c"
      },
      "outputs": [
        {
          "data": {
            "text/plain": [
              "<langgraph.graph.state.StateGraph at 0x7feabdc05710>"
            ]
          },
          "execution_count": 36,
          "metadata": {},
          "output_type": "execute_result"
        }
      ],
      "source": [
        "def should_continue(state: AgentState):\n",
        "    messages = state[\"messages\"]\n",
        "    last_message = messages[-1]\n",
        "    if not last_message.tool_calls:\n",
        "        return \"end\"\n",
        "    else:\n",
        "        return \"continue\"\n",
        "\n",
        "# --- 5. Build the Graph ---\n",
        "# The graph structure is identical.\n",
        "graph = StateGraph(AgentState)\n",
        "\n",
        "graph.add_node(\"our_agent\", model_call)\n",
        "graph.add_node(\"tools\", tool_node)\n",
        "\n",
        "graph.set_entry_point(\"our_agent\")"
      ]
    },
    {
      "cell_type": "code",
      "execution_count": null,
      "metadata": {
        "colab": {
          "base_uri": "https://localhost:8080/"
        },
        "id": "HXVIgEWrlCQg",
        "outputId": "1e9c4be0-a236-44a3-d3d6-a657d644054c"
      },
      "outputs": [
        {
          "data": {
            "text/plain": [
              "<langgraph.graph.state.StateGraph at 0x7feabdc05710>"
            ]
          },
          "execution_count": 37,
          "metadata": {},
          "output_type": "execute_result"
        }
      ],
      "source": [
        "graph.add_conditional_edges(\n",
        "    \"our_agent\",\n",
        "    should_continue,\n",
        "    {\n",
        "        \"continue\": \"tools\",\n",
        "        \"end\": END,\n",
        "    },\n",
        ")\n"
      ]
    },
    {
      "cell_type": "code",
      "execution_count": null,
      "metadata": {
        "colab": {
          "base_uri": "https://localhost:8080/"
        },
        "id": "5ERwa60UlV1X",
        "outputId": "9cf021ff-2df2-431d-da8e-09863102d1b1"
      },
      "outputs": [
        {
          "data": {
            "text/plain": [
              "<langgraph.graph.state.StateGraph at 0x7feabdc05710>"
            ]
          },
          "execution_count": 38,
          "metadata": {},
          "output_type": "execute_result"
        }
      ],
      "source": [
        "graph.add_edge(\"tools\", \"our_agent\")\n"
      ]
    },
    {
      "cell_type": "code",
      "execution_count": null,
      "metadata": {
        "id": "utSt-uuKlZMt"
      },
      "outputs": [],
      "source": [
        "app = graph.compile()\n"
      ]
    },
    {
      "cell_type": "code",
      "execution_count": null,
      "metadata": {
        "id": "hR_dqXCSle62"
      },
      "outputs": [],
      "source": [
        "def print_stream(stream):\n",
        "    for s in stream:\n",
        "        # `s` is the full state of the graph. We print the last message added.\n",
        "        message = s[\"messages\"][-1]\n",
        "        message.pretty_print()"
      ]
    },
    {
      "cell_type": "code",
      "execution_count": null,
      "metadata": {
        "colab": {
          "base_uri": "https://localhost:8080/"
        },
        "id": "HYCoQ8UFlhSm",
        "outputId": "f010f7d7-60f8-400b-8a96-f008517f3200"
      },
      "outputs": [
        {
          "name": "stdout",
          "output_type": "stream",
          "text": [
            "================================\u001b[1m Human Message \u001b[0m=================================\n",
            "\n",
            "Add 40 + 12 and then multiply the result by 6. Also tell me a joke please.\n",
            "==================================\u001b[1m Ai Message \u001b[0m==================================\n",
            "Tool Calls:\n",
            "  add (24fb4d80-11c6-4fbc-8ba9-22450f243afd)\n",
            " Call ID: 24fb4d80-11c6-4fbc-8ba9-22450f243afd\n",
            "  Args:\n",
            "    a: 40.0\n",
            "    b: 12.0\n",
            "=================================\u001b[1m Tool Message \u001b[0m=================================\n",
            "Name: add\n",
            "\n",
            "52\n",
            "==================================\u001b[1m Ai Message \u001b[0m==================================\n",
            "Tool Calls:\n",
            "  multiply (f590990a-9839-41a2-b43e-a330d7ec7ab1)\n",
            " Call ID: f590990a-9839-41a2-b43e-a330d7ec7ab1\n",
            "  Args:\n",
            "    a: 52.0\n",
            "    b: 6.0\n",
            "=================================\u001b[1m Tool Message \u001b[0m=================================\n",
            "Name: multiply\n",
            "\n",
            "312\n",
            "==================================\u001b[1m Ai Message \u001b[0m==================================\n",
            "\n",
            "The sum of 40 and 12 is 52. When 52 is multiplied by 6, the result is 312.\n",
            "\n",
            "Here's a joke for you: Why don't scientists trust atoms? Because they make up everything!\n"
          ]
        }
      ],
      "source": [
        "inputs = {\"messages\": [(\"user\", \"Add 40 + 12 and then multiply the result by 6. Also tell me a joke please.\")]}\n",
        "print_stream(app.stream(inputs, stream_mode=\"values\"))"
      ]
    },
    {
      "cell_type": "code",
      "execution_count": null,
      "metadata": {
        "colab": {
          "base_uri": "https://localhost:8080/",
          "height": 290
        },
        "id": "6tlkbI-7lj0b",
        "outputId": "3bd2f62b-a58e-4f53-d8e7-8d4165a6e47f"
      },
      "outputs": [
        {
          "data": {
            "image/png": "[encoded data removed]",
            "text/plain": [
              "<IPython.core.display.Image object>"
            ]
          },
          "metadata": {},
          "output_type": "display_data"
        }
      ],
      "source": [
        "from IPython.display import Image, display\n",
        "\n",
        "# Ensure you are calling get_graph() on your compiled LangGraph application\n",
        "# which we named 'app'.\n",
        "try:\n",
        "    # Get the graph object\n",
        "    graph = app.get_graph()\n",
        "\n",
        "    # Draw the graph to a PNG byte string\n",
        "    png_bytes = graph.draw_mermaid_png()\n",
        "\n",
        "    # Display the image\n",
        "    display(Image(png_bytes))\n",
        "\n",
        "except ImportError as e:\n",
        "    print(f\"ImportError: {e}\")\n",
        "    print(\"Please install pygraphviz: pip install pygraphviz\")\n",
        "except Exception as e:\n",
        "    print(f\"An error occurred: {e}\")\n",
        "    print(\"Please ensure that the Graphviz system library is installed and in your PATH.\")\n",
        "    print(\"See installation instructions at: https://graphviz.org/download/\")"
      ]
    },
    {
      "cell_type": "code",
      "execution_count": null,
      "metadata": {
        "id": "adzoMVfQogh6"
      },
      "outputs": [],
      "source": [
        "from typing import TypedDict, List\n",
        "from langchain_core.messages import HumanMessage\n",
        "from langchain_google_genai import ChatGoogleGenerativeAI\n",
        "from langgraph.graph import StateGraph, START, END"
      ]
    },
    {
      "cell_type": "code",
      "execution_count": null,
      "metadata": {
        "id": "_SyXNHR2MvwF"
      },
      "outputs": [],
      "source": [
        "document_content = \"\"\n",
        "class AgentState(TypedDict):\n",
        "  messages: Annotated[Sequence[BaseMessage], add_messages]"
      ]
    },
    {
      "cell_type": "code",
      "execution_count": null,
      "metadata": {
        "id": "d_ZC4B9lNMUR"
      },
      "outputs": [],
      "source": [
        "@tool\n",
        "def update(content: str) -> str:\n",
        "  \"\"\" Update documents with the provided content.\"\"\"\n",
        "  global document_content\n",
        "  document_content = content\n",
        "  return f\"Document has been updated successfully! The current content is:\\n{document_content}\"\n",
        "\n",
        "@tool\n",
        "def save(filename: str) -> str:\n",
        "    \"\"\"Save the current document to a text file and finish the process.\n",
        "\n",
        "    Args:\n",
        "        filename: Name for the text file.\n",
        "    \"\"\"\n",
        "\n",
        "    global document_content\n",
        "\n",
        "    if not filename.endswith('.txt'):\n",
        "        filename = f\"{filename}.txt\"\n",
        "\n",
        "\n",
        "    try:\n",
        "        with open(filename, 'w') as file:\n",
        "            file.write(document_content)\n",
        "        print(f\"\\n💾 Document has been saved to: {filename}\")\n",
        "        return f\"Document has been saved successfully to '{filename}'.\"\n",
        "\n",
        "    except Exception as e:\n",
        "        return f\"Error saving document: {str(e)}\"\n",
        "\n",
        "\n",
        "tools = [update, save]\n",
        "\n",
        "model = ChatGoogleGenerativeAI(model=\"gemini-2.5-flash\", temperature=0).bind_tools(tools)\n",
        "\n",
        "\n",
        "def our_agent(state: AgentState) -> AgentState:\n",
        "  system_prompt = SystemMessage(content = f\"\"\"\n",
        "    You are Drafter, a helpful writing assistant. You are going to help the user update and modify documents.\n",
        "\n",
        "    - If the user wants to update or modify content, use the 'update' tool with the complete updated content.\n",
        "    - If the user wants to save and finish, you need to use the 'save' tool.\n",
        "    - Make sure to always show the current document state after modifications.\n",
        "\n",
        "    The current document content is:{document_content}\n",
        "    \"\"\")\n",
        "  if not state[\"messages\"]:\n",
        "    user_input = \"I'm ready to help you update a document. What would you like to create?\"\n",
        "    user_message = HumanMessage(content=user_input)\n",
        "\n",
        "  else:\n",
        "     user_input = input(\"\\nWhat would you like to do with the document? \")\n",
        "     print(f\"\\n👤 USER: {user_input}\")\n",
        "     user_message = HumanMessage(content=user_input)\n",
        "\n",
        "  all_messages = [system_prompt] + list(state[\"messages\"]) + [user_message]\n",
        "  response = model.invoke(all_messages)\n",
        "\n",
        "  print(f\"\\n🤖 AI: {response.content}\")\n",
        "  if hasattr(response, \"tool_calls\") and response.tool_calls:\n",
        "      print(f\"🔧 USING TOOLS: {[tc['name'] for tc in response.tool_calls]}\")\n",
        "\n",
        "  return {\"messages\": list(state[\"messages\"]) + [user_message, response]}\n",
        "\n",
        "\n",
        "\n",
        "def our_agent(state: AgentState) -> AgentState:\n",
        "  system_prompt = SystemMessage(content = f\"\"\"\n",
        "    You are Drafter, a helpful writing assistant. You are going to help the user update and modify documents.\n",
        "\n",
        "    - If the user wants to update or modify content, use the 'update' tool with the complete updated content.\n",
        "    - If the user wants to save and finish, you need to use the 'save' tool.\n",
        "    - Make sure to always show the current document state after modifications.\n",
        "\n",
        "    The current document content is:{document_content}\n",
        "    \"\"\")\n",
        "  if not state[\"messages\"]:\n",
        "    user_input = \"I'm ready to help you update a document. What would you like to create?\"\n",
        "    user_message = HumanMessage(content=user_input)\n",
        "\n",
        "  else:\n",
        "     user_input = input(\"\\nWhat would you like to do with the document? \")\n",
        "     print(f\"\\n👤 USER: {user_input}\")\n",
        "     user_message = HumanMessage(content=user_input)\n",
        "\n",
        "  all_messages = [system_prompt] + list(state[\"messages\"]) + [user_message]\n",
        "  response = model.invoke(all_messages)\n",
        "\n",
        "  print(f\"\\n🤖 AI: {response.content}\")\n",
        "  if hasattr(response, \"tool_calls\") and response.tool_calls:\n",
        "      print(f\"🔧 USING TOOLS: {[tc['name'] for tc in response.tool_calls]}\")\n",
        "\n",
        "  return {\"messages\": list(state[\"messages\"]) + [user_message, response]}\n",
        "\n",
        "tool_node = ToolNode(tools=tools)\n",
        "\n",
        "def should_continue(state: AgentState) -> str:\n",
        "    \"\"\"Determine if we should continue or end the conversation.\"\"\"\n",
        "\n",
        "    messages = state[\"messages\"]\n",
        "\n",
        "    if not messages:\n",
        "        return \"continue\"\n",
        "\n",
        "    # This looks for the most recent tool message....\n",
        "    for message in reversed(messages):\n",
        "        # ... and checks if this is a ToolMessage resulting from save\n",
        "        if (isinstance(message, ToolMessage) and\n",
        "            \"saved\" in message.content.lower() and\n",
        "            \"document\" in message.content.lower()):\n",
        "            return \"end\" # goes to the end edge which leads to the endpoint\n",
        "\n",
        "    return \"continue\"\n",
        "\n",
        "def print_messages(messages):\n",
        "    \"\"\"Function I made to print the messages in a more readable format\"\"\"\n",
        "    if not messages:\n",
        "        return\n",
        "\n",
        "    for message in messages[-3:]:\n",
        "        if isinstance(message, ToolMessage):\n",
        "            print(f\"\\n🛠️ TOOL RESULT: {message.content}\")\n",
        "\n"
      ]
    },
    {
      "cell_type": "code",
      "execution_count": null,
      "metadata": {
        "id": "o1edOd4AuhKp"
      },
      "outputs": [],
      "source": []
    },
    {
      "cell_type": "code",
      "execution_count": null,
      "metadata": {
        "colab": {
          "base_uri": "https://localhost:8080/"
        },
        "id": "4eSDMTv2uz-R",
        "outputId": "cf0f26f6-a9fa-4e39-a660-8e651a356944"
      },
      "outputs": [
        {
          "name": "stdout",
          "output_type": "stream",
          "text": [
            "\n",
            " ===== DRAFTER =====\n",
            "\n",
            "🤖 AI: I'm ready to help you update a document. What would you like to change in the current document?\n",
            "\n",
            "What would you like to do with the document? tell me about react js\n",
            "\n",
            "👤 USER: tell me about react js\n",
            "\n",
            "🤖 AI: I am sorry, but I cannot tell you about React JS. My purpose is to help you update and modify documents.\n",
            "\n",
            "The current document content is:\n",
            "Subject: Unavailability for Meeting\n",
            "\n",
            "Hi John,\n",
            "\n",
            "I hope this email finds you well.\n",
            "\n",
            "I am writing to inform you that I will not be available for the upcoming meeting. I apologize for any inconvenience this may cause. I will be available after August 18th, 1 PM.\n",
            "\n",
            "Please let me know if there are any key points or decisions from the meeting that I should be aware of.\n",
            "\n",
            "Thank you for your understanding.\n",
            "\n",
            "Best regards,\n",
            "\n",
            "Ash\n",
            "\n",
            "What would you like to change in the current document?\n",
            "\n",
            "What would you like to do with the document? change time to 19 august 1 am\n",
            "\n",
            "👤 USER: change time to 19 august 1 am\n",
            "\n",
            "🤖 AI: \n",
            "🔧 USING TOOLS: ['update']\n",
            "\n",
            "🛠️ TOOL RESULT: Document has been updated successfully! The current content is:\n",
            "Subject: Unavailability for Meeting\n",
            "\n",
            "Hi John,\n",
            "\n",
            "I hope this email finds you well.\n",
            "\n",
            "I am writing to inform you that I will not be available for the upcoming meeting. I apologize for any inconvenience this may cause. I will be available after August 19th, 1 AM.\n",
            "\n",
            "Please let me know if there are any key points or decisions from the meeting that I should be aware of.\n",
            "\n",
            "Thank you for your understanding.\n",
            "\n",
            "Best regards,\n",
            "\n",
            "Ash\n",
            "\n",
            "What would you like to do with the document? save it\n",
            "\n",
            "👤 USER: save it\n",
            "\n",
            "🤖 AI: I can help you with that. What would you like to name the file?\n",
            "\n",
            "🛠️ TOOL RESULT: Document has been updated successfully! The current content is:\n",
            "Subject: Unavailability for Meeting\n",
            "\n",
            "Hi John,\n",
            "\n",
            "I hope this email finds you well.\n",
            "\n",
            "I am writing to inform you that I will not be available for the upcoming meeting. I apologize for any inconvenience this may cause. I will be available after August 19th, 1 AM.\n",
            "\n",
            "Please let me know if there are any key points or decisions from the meeting that I should be aware of.\n",
            "\n",
            "Thank you for your understanding.\n",
            "\n",
            "Best regards,\n",
            "\n",
            "Ash\n",
            "\n",
            "🛠️ TOOL RESULT: Document has been updated successfully! The current content is:\n",
            "Subject: Unavailability for Meeting\n",
            "\n",
            "Hi John,\n",
            "\n",
            "I hope this email finds you well.\n",
            "\n",
            "I am writing to inform you that I will not be available for the upcoming meeting. I apologize for any inconvenience this may cause. I will be available after August 19th, 1 AM.\n",
            "\n",
            "Please let me know if there are any key points or decisions from the meeting that I should be aware of.\n",
            "\n",
            "Thank you for your understanding.\n",
            "\n",
            "Best regards,\n",
            "\n",
            "Ash\n",
            "\n",
            "What would you like to do with the document? please save this document\n",
            "\n",
            "👤 USER: please save this document\n",
            "\n",
            "🤖 AI: I can help you with that. What would you like to name the file?\n",
            "\n",
            "What would you like to do with the document? email2\n",
            "\n",
            "👤 USER: email2\n",
            "\n",
            "🤖 AI: \n",
            "🔧 USING TOOLS: ['save']\n",
            "\n",
            "💾 Document has been saved to: email2.txt\n",
            "\n",
            "🛠️ TOOL RESULT: Document has been saved successfully to 'email2.txt'.\n",
            "\n",
            " ===== DRAFTER FINISHED =====\n"
          ]
        }
      ],
      "source": [
        "def our_agent(state: AgentState) -> AgentState:\n",
        "  system_prompt = SystemMessage(content = f\"\"\"\n",
        "    You are Drafter, a helpful writing assistant. You are going to help the user update and modify documents.\n",
        "\n",
        "    - If the user wants to update or modify content, use the 'update' tool with the complete updated content.\n",
        "    - If the user wants to save and finish, you need to use the 'save' tool.\n",
        "    - Make sure to always show the current document state after modifications.\n",
        "\n",
        "    The current document content is:{document_content}\n",
        "    \"\"\")\n",
        "  if not state[\"messages\"]:\n",
        "    user_input = \"I'm ready to help you update a document. What would you like to create?\"\n",
        "    user_message = HumanMessage(content=user_input)\n",
        "\n",
        "  else:\n",
        "     user_input = input(\"\\nWhat would you like to do with the document? \")\n",
        "     print(f\"\\n👤 USER: {user_input}\")\n",
        "     user_message = HumanMessage(content=user_input)\n",
        "\n",
        "  all_messages = [system_prompt] + list(state[\"messages\"]) + [user_message]\n",
        "  response = model.invoke(all_messages)\n",
        "\n",
        "  print(f\"\\n🤖 AI: {response.content}\")\n",
        "  if hasattr(response, \"tool_calls\") and response.tool_calls:\n",
        "      print(f\"🔧 USING TOOLS: {[tc['name'] for tc in response.tool_calls]}\")\n",
        "\n",
        "  return {\"messages\": list(state[\"messages\"]) + [user_message, response]}\n",
        "\n",
        "graph = StateGraph(AgentState)\n",
        "\n",
        "graph.add_node(\"agent\", our_agent)\n",
        "graph.add_node(\"tools\", tool_node)\n",
        "\n",
        "graph.set_entry_point(\"agent\")\n",
        "\n",
        "graph.add_edge(\"agent\",\"tools\")\n",
        "\n",
        "graph.add_conditional_edges(\n",
        "    \"tools\",\n",
        "    should_continue,\n",
        "    {\n",
        "        \"continue\": \"agent\",\n",
        "        \"end\": END,\n",
        "    },\n",
        ")\n",
        "\n",
        "\n",
        "app = graph.compile()\n",
        "\n",
        "def run_document_agent():\n",
        "    print(\"\\n ===== DRAFTER =====\")\n",
        "\n",
        "    state = {\"messages\": []}\n",
        "\n",
        "    for step in app.stream(state, stream_mode=\"values\"):\n",
        "        if \"messages\" in step:\n",
        "            print_messages(step[\"messages\"])\n",
        "\n",
        "    print(\"\\n ===== DRAFTER FINISHED =====\")\n",
        "\n",
        "if __name__ == \"__main__\":\n",
        "    run_document_agent()\n"
      ]
    },
    {
      "cell_type": "code",
      "execution_count": null,
      "metadata": {
        "id": "dfBvinesybDt"
      },
      "outputs": [],
      "source": []
    }
  ],
  "metadata": {
    "colab": {
      "provenance": []
    },
    "kernelspec": {
      "display_name": "Python 3",
      "name": "python3"
    },
    "language_info": {
      "name": "python"
    }
  },
  "nbformat": 4,
  "nbformat_minor": 0
}
